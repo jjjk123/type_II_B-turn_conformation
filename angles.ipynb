{
 "metadata": {
  "language_info": {
   "codemirror_mode": {
    "name": "ipython",
    "version": 3
   },
   "file_extension": ".py",
   "mimetype": "text/x-python",
   "name": "python",
   "nbconvert_exporter": "python",
   "pygments_lexer": "ipython3",
   "version": "3.7.10"
  },
  "orig_nbformat": 2,
  "kernelspec": {
   "name": "python3710jvsc74a57bd0fe6fe56491d14359533496d48f76d8d5eca29ada47f7474479a0f1ba33b27843",
   "display_name": "Python 3.7.10 64-bit ('myenv': conda)"
  }
 },
 "nbformat": 4,
 "nbformat_minor": 2,
 "cells": [
  {
   "cell_type": "code",
   "execution_count": 1,
   "metadata": {},
   "outputs": [],
   "source": [
    "import atomium"
   ]
  },
  {
   "cell_type": "code",
   "execution_count": null,
   "metadata": {},
   "outputs": [],
   "source": [
    "def is_B_turn(given_angles):\n",
    "    B_angles = [60, -120, -80, 0]\n",
    "    if given_angles == B_angles:\n",
    "        return True"
   ]
  },
  {
   "cell_type": "code",
   "execution_count": 2,
   "metadata": {},
   "outputs": [],
   "source": [
    "pdb1 = atomium.open('1g60.pdb')"
   ]
  },
  {
   "cell_type": "code",
   "execution_count": 9,
   "metadata": {},
   "outputs": [
    {
     "output_type": "execute_result",
     "data": {
      "text/plain": [
       "'MLEINKIHQMNCFDFLDQVENKSVQLAVIDPPYNLSKADWDSFDSHNEFLAFTYRWIDKVLDKLDKDGSLYIFNTPFNCAFICQYLVSKGMIFQNWITWDKRDGMGSAKRRFSTGQETILFFSKSKNHTFNYDEVRVPYESTDRIKHASEKGILKNGKRWFPNPNGRLCGEVWHFSSQRHKEKVNGKTVKLTHITPKPRDLIERIIRASSNPNDLVLDCFMGSGTTAIVAKKLGRNFIGCDMNAEYVNQANFVLNQLEIN'"
      ]
     },
     "metadata": {},
     "execution_count": 9
    }
   ],
   "source": [
    "pdb1.model.chain('A').sequence"
   ]
  },
  {
   "cell_type": "code",
   "execution_count": null,
   "metadata": {},
   "outputs": [],
   "source": []
  }
 ]
}