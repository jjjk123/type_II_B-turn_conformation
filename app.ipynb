{
 "cells": [
  {
   "cell_type": "code",
   "execution_count": 1,
   "metadata": {},
   "outputs": [],
   "source": [
    "from Bio.PDB import PDBParser\n",
    "from Bio.PDB.DSSP import DSSP"
   ]
  },
  {
   "cell_type": "code",
   "execution_count": 2,
   "metadata": {},
   "outputs": [
    {
     "name": "stderr",
     "output_type": "stream",
     "text": [
      "/Users/jedrzejkubica/opt/anaconda3/envs/work/lib/python3.7/site-packages/Bio/PDB/StructureBuilder.py:92: PDBConstructionWarning: WARNING: Chain A is discontinuous at line 4365.\n",
      "  PDBConstructionWarning,\n",
      "/Users/jedrzejkubica/opt/anaconda3/envs/work/lib/python3.7/site-packages/Bio/PDB/StructureBuilder.py:92: PDBConstructionWarning: WARNING: Chain B is discontinuous at line 4393.\n",
      "  PDBConstructionWarning,\n",
      "/Users/jedrzejkubica/opt/anaconda3/envs/work/lib/python3.7/site-packages/Bio/PDB/StructureBuilder.py:92: PDBConstructionWarning: WARNING: Chain A is discontinuous at line 4421.\n",
      "  PDBConstructionWarning,\n",
      "/Users/jedrzejkubica/opt/anaconda3/envs/work/lib/python3.7/site-packages/Bio/PDB/StructureBuilder.py:92: PDBConstructionWarning: WARNING: Chain B is discontinuous at line 4616.\n",
      "  PDBConstructionWarning,\n"
     ]
    }
   ],
   "source": [
    "p = PDBParser()\n",
    "structure = p.get_structure(\"1g60\", \"/Users/jedrzejkubica/calc/type_II_B-turn_conformation/1g60.pdb\")\n",
    "model = structure[0]"
   ]
  },
  {
   "cell_type": "code",
   "execution_count": 16,
   "metadata": {},
   "outputs": [
    {
     "name": "stderr",
     "output_type": "stream",
     "text": [
      "/Users/jedrzejkubica/opt/anaconda3/envs/work/lib/python3.7/site-packages/Bio/PDB/DSSP.py:252: UserWarning: dyld: Library not loaded: libboost_thread.dylib\n",
      "  Referenced from: /Users/jedrzejkubica/calc/dssp-2.2.1/mkdssp\n",
      "  Reason: image not found\n",
      "\n",
      "  warnings.warn(err)\n"
     ]
    },
    {
     "ename": "Exception",
     "evalue": "DSSP failed to produce an output",
     "output_type": "error",
     "traceback": [
      "\u001b[0;31m---------------------------------------------------------------------------\u001b[0m",
      "\u001b[0;31mException\u001b[0m                                 Traceback (most recent call last)",
      "\u001b[0;32m/var/folders/jz/6x71ckj13c31lbpnxzk_tm640000gn/T/ipykernel_2644/450771615.py\u001b[0m in \u001b[0;36m<module>\u001b[0;34m\u001b[0m\n\u001b[0;32m----> 1\u001b[0;31m \u001b[0mdssp\u001b[0m \u001b[0;34m=\u001b[0m \u001b[0mDSSP\u001b[0m\u001b[0;34m(\u001b[0m\u001b[0mmodel\u001b[0m\u001b[0;34m,\u001b[0m \u001b[0;34m\"/local-pdb/1mot.pdb\"\u001b[0m\u001b[0;34m,\u001b[0m \u001b[0mdssp\u001b[0m\u001b[0;34m=\u001b[0m\u001b[0;34m'/Users/jedrzejkubica/calc/dssp-2.2.1/mkdssp'\u001b[0m\u001b[0;34m)\u001b[0m\u001b[0;34m\u001b[0m\u001b[0;34m\u001b[0m\u001b[0m\n\u001b[0m",
      "\u001b[0;32m~/opt/anaconda3/envs/work/lib/python3.7/site-packages/Bio/PDB/DSSP.py\u001b[0m in \u001b[0;36m__init__\u001b[0;34m(self, model, in_file, dssp, acc_array, file_type)\u001b[0m\n\u001b[1;32m    436\u001b[0m             \u001b[0;31m# (Debian distribution of DSSP includes a symlink for 'dssp' argument)\u001b[0m\u001b[0;34m\u001b[0m\u001b[0;34m\u001b[0m\u001b[0;34m\u001b[0m\u001b[0m\n\u001b[1;32m    437\u001b[0m             \u001b[0;32mtry\u001b[0m\u001b[0;34m:\u001b[0m\u001b[0;34m\u001b[0m\u001b[0;34m\u001b[0m\u001b[0m\n\u001b[0;32m--> 438\u001b[0;31m                 \u001b[0mdssp_dict\u001b[0m\u001b[0;34m,\u001b[0m \u001b[0mdssp_keys\u001b[0m \u001b[0;34m=\u001b[0m \u001b[0mdssp_dict_from_pdb_file\u001b[0m\u001b[0;34m(\u001b[0m\u001b[0min_file\u001b[0m\u001b[0;34m,\u001b[0m \u001b[0mdssp\u001b[0m\u001b[0;34m)\u001b[0m\u001b[0;34m\u001b[0m\u001b[0;34m\u001b[0m\u001b[0m\n\u001b[0m\u001b[1;32m    439\u001b[0m             \u001b[0;32mexcept\u001b[0m \u001b[0mFileNotFoundError\u001b[0m\u001b[0;34m:\u001b[0m\u001b[0;34m\u001b[0m\u001b[0;34m\u001b[0m\u001b[0m\n\u001b[1;32m    440\u001b[0m                 \u001b[0;32mif\u001b[0m \u001b[0mdssp\u001b[0m \u001b[0;34m==\u001b[0m \u001b[0;34m\"dssp\"\u001b[0m\u001b[0;34m:\u001b[0m\u001b[0;34m\u001b[0m\u001b[0;34m\u001b[0m\u001b[0m\n",
      "\u001b[0;32m~/opt/anaconda3/envs/work/lib/python3.7/site-packages/Bio/PDB/DSSP.py\u001b[0m in \u001b[0;36mdssp_dict_from_pdb_file\u001b[0;34m(in_file, DSSP)\u001b[0m\n\u001b[1;32m    252\u001b[0m         \u001b[0mwarnings\u001b[0m\u001b[0;34m.\u001b[0m\u001b[0mwarn\u001b[0m\u001b[0;34m(\u001b[0m\u001b[0merr\u001b[0m\u001b[0;34m)\u001b[0m\u001b[0;34m\u001b[0m\u001b[0;34m\u001b[0m\u001b[0m\n\u001b[1;32m    253\u001b[0m         \u001b[0;32mif\u001b[0m \u001b[0;32mnot\u001b[0m \u001b[0mout\u001b[0m\u001b[0;34m.\u001b[0m\u001b[0mstrip\u001b[0m\u001b[0;34m(\u001b[0m\u001b[0;34m)\u001b[0m\u001b[0;34m:\u001b[0m\u001b[0;34m\u001b[0m\u001b[0;34m\u001b[0m\u001b[0m\n\u001b[0;32m--> 254\u001b[0;31m             \u001b[0;32mraise\u001b[0m \u001b[0mException\u001b[0m\u001b[0;34m(\u001b[0m\u001b[0;34m\"DSSP failed to produce an output\"\u001b[0m\u001b[0;34m)\u001b[0m\u001b[0;34m\u001b[0m\u001b[0;34m\u001b[0m\u001b[0m\n\u001b[0m\u001b[1;32m    255\u001b[0m \u001b[0;34m\u001b[0m\u001b[0m\n\u001b[1;32m    256\u001b[0m     \u001b[0mout_dict\u001b[0m\u001b[0;34m,\u001b[0m \u001b[0mkeys\u001b[0m \u001b[0;34m=\u001b[0m \u001b[0m_make_dssp_dict\u001b[0m\u001b[0;34m(\u001b[0m\u001b[0mStringIO\u001b[0m\u001b[0;34m(\u001b[0m\u001b[0mout\u001b[0m\u001b[0;34m)\u001b[0m\u001b[0;34m)\u001b[0m\u001b[0;34m\u001b[0m\u001b[0;34m\u001b[0m\u001b[0m\n",
      "\u001b[0;31mException\u001b[0m: DSSP failed to produce an output"
     ]
    }
   ],
   "source": [
    "dssp = DSSP(model, \"/local-pdb/1mot.pdb\", dssp='/Users/jedrzejkubica/calc/dssp-2.2.1/mkdssp')"
   ]
  },
  {
   "cell_type": "code",
   "execution_count": 13,
   "metadata": {},
   "outputs": [],
   "source": [
    "a_key = list(dssp.keys())"
   ]
  },
  {
   "cell_type": "markdown",
   "metadata": {},
   "source": []
  },
  {
   "cell_type": "code",
   "execution_count": 14,
   "metadata": {},
   "outputs": [
    {
     "data": {
      "text/plain": [
       "[]"
      ]
     },
     "execution_count": 14,
     "metadata": {},
     "output_type": "execute_result"
    }
   ],
   "source": [
    "a_key"
   ]
  }
 ],
 "metadata": {
  "interpreter": {
   "hash": "f1da6f0aa5a6d94d582cdd7738d3c63a6660a5e0e2aa51fad15a9d019dea5976"
  },
  "kernelspec": {
   "display_name": "Python 3.7.11 64-bit ('work': conda)",
   "name": "python3"
  },
  "language_info": {
   "codemirror_mode": {
    "name": "ipython",
    "version": 3
   },
   "file_extension": ".py",
   "mimetype": "text/x-python",
   "name": "python",
   "nbconvert_exporter": "python",
   "pygments_lexer": "ipython3",
   "version": "3.7.11"
  },
  "orig_nbformat": 4
 },
 "nbformat": 4,
 "nbformat_minor": 2
}
