{
 "metadata": {
  "language_info": {
   "codemirror_mode": {
    "name": "ipython",
    "version": 3
   },
   "file_extension": ".py",
   "mimetype": "text/x-python",
   "name": "python",
   "nbconvert_exporter": "python",
   "pygments_lexer": "ipython3",
   "version": "3.7.10"
  },
  "orig_nbformat": 2,
  "kernelspec": {
   "name": "python3710jvsc74a57bd0fe6fe56491d14359533496d48f76d8d5eca29ada47f7474479a0f1ba33b27843",
   "display_name": "Python 3.7.10 64-bit ('myenv': conda)"
  }
 },
 "nbformat": 4,
 "nbformat_minor": 2,
 "cells": [
  {
   "cell_type": "code",
   "execution_count": 26,
   "metadata": {},
   "outputs": [],
   "source": [
    "import atomium\n",
    "import pandas as pd\n",
    "import numpy as np"
   ]
  },
  {
   "cell_type": "code",
   "execution_count": 42,
   "metadata": {},
   "outputs": [],
   "source": [
    "def find_angles():\n",
    "    pdb1 = atomium.open('1g60.pdb')\n",
    "    seq = pdb1.model.chain('A').sequence\n",
    "    data = np.array(pd.read_csv('1g60_angles.csv'))\n",
    "    angles = data[:, :3]    \n",
    "    return seq, angles"
   ]
  },
  {
   "cell_type": "code",
   "execution_count": 103,
   "metadata": {},
   "outputs": [],
   "source": [
    "def find_B_turns(seq, angles):\n",
    "    B_seq = [60, -120, -80, 0]\n",
    "    positions = []\n",
    "    i = 0\n",
    "    for res in angles:\n",
    "        if round(angles[i][1], -1) == 60:\n",
    "            if round(angles[i][2], -1) == -120:\n",
    "                if round(angles[i+1][1], -1) == -80:\n",
    "                    if round(angles[i+1][2], -1) == 0:\n",
    "                        positions.append(angles[i][1])\n",
    "        i += 1"
   ]
  },
  {
   "cell_type": "code",
   "execution_count": 104,
   "metadata": {},
   "outputs": [],
   "source": [
    "seq, angles = find_angles()"
   ]
  },
  {
   "cell_type": "code",
   "execution_count": 105,
   "metadata": {},
   "outputs": [],
   "source": [
    "positions = find_B_turns(seq, angles)"
   ]
  },
  {
   "cell_type": "code",
   "execution_count": 106,
   "metadata": {},
   "outputs": [
    {
     "output_type": "stream",
     "name": "stdout",
     "text": [
      "None\n"
     ]
    }
   ],
   "source": [
    "print(positions)"
   ]
  },
  {
   "cell_type": "code",
   "execution_count": null,
   "metadata": {},
   "outputs": [],
   "source": []
  }
 ]
}