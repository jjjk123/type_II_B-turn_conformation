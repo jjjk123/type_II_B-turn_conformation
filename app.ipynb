{
 "metadata": {
  "language_info": {
   "codemirror_mode": {
    "name": "ipython",
    "version": 3
   },
   "file_extension": ".py",
   "mimetype": "text/x-python",
   "name": "python",
   "nbconvert_exporter": "python",
   "pygments_lexer": "ipython3",
   "version": "3.7.10"
  },
  "orig_nbformat": 2,
  "kernelspec": {
   "name": "python3710jvsc74a57bd0fe6fe56491d14359533496d48f76d8d5eca29ada47f7474479a0f1ba33b27843",
   "display_name": "Python 3.7.10 64-bit ('myenv': conda)"
  }
 },
 "nbformat": 4,
 "nbformat_minor": 2,
 "cells": [
  {
   "cell_type": "code",
   "execution_count": 2,
   "metadata": {},
   "outputs": [],
   "source": [
    "import atomium\n",
    "import pandas as pd\n",
    "import numpy as np"
   ]
  },
  {
   "cell_type": "code",
   "execution_count": 3,
   "metadata": {},
   "outputs": [],
   "source": [
    "def myround(x, err):\n",
    "    return err * round(x/err)"
   ]
  },
  {
   "cell_type": "code",
   "execution_count": 4,
   "metadata": {},
   "outputs": [],
   "source": [
    "def get_angles(file_name, chain, err):\n",
    "    pdb1 = atomium.open(file_name)\n",
    "    atoms = []\n",
    "    angles = []\n",
    "    for i in range(1, pdb1.model.chain(chain).length):\n",
    "        atoms.append(pdb1.model.atom(i))\n",
    "    for atom in atoms:\n",
    "        if atom == None:\n",
    "            atoms.remove(atom)\n",
    "    for i in range(len(atoms) - 2):\n",
    "        angles.append(atoms[i + 1].angle(atoms[i], atoms[i + 2]))\n",
    "    for i in range(len(angles)):\n",
    "        #rad to deg\n",
    "        angles[i] = angles[i] * 57.295\n",
    "        angles[i] = myround(angles[i], err)\n",
    "    return angles"
   ]
  },
  {
   "cell_type": "code",
   "execution_count": 11,
   "metadata": {},
   "outputs": [],
   "source": [
    "pdb2 = atomium.open('1g60.pdb')"
   ]
  },
  {
   "cell_type": "code",
   "execution_count": 32,
   "metadata": {},
   "outputs": [],
   "source": [
    "atoms = []\n",
    "for i in range(1, pdb2.model.chain('A').length):\n",
    "    atoms.append(pdb2.model.atom(i))\n",
    "for atom in atoms:\n",
    "    if atom == None:\n",
    "        atoms.remove(atom)"
   ]
  },
  {
   "cell_type": "code",
   "execution_count": 41,
   "metadata": {},
   "outputs": [],
   "source": [
    "# atoms - atom seq\n",
    "# B_turn - atom seq in B-turn\n",
    "def h_bond(atoms, *B_turn):\n",
    "    for atom in atoms:\n",
    "        print(atom.nearby_atoms(10))"
   ]
  },
  {
   "cell_type": "code",
   "execution_count": 42,
   "metadata": {
    "tags": [
     "outputPrepend"
    ]
   },
   "outputs": [
    {
     "output_type": "stream",
     "name": "stdout",
     "text": [
      "tom 50 (CD)>, <Atom 1670 (CG)>, <Atom 1825 (C)>, <Atom 61 (CG1)>, <Atom 23 (CD)>, <Atom 1771 (C)>, <Atom 4005 (O)>, <Atom 31 (CG1)>, <Atom 1836 (C)>, <Atom 1933 (O)>, <Atom 68 (CB)>, <Atom 1775 (CA)>, <Atom 1966 (CG)>, <Atom 72 (CE1)>, <Atom 1842 (CG2)>, <Atom 1937 (C)>, <Atom 1779 (CG)>, <Atom 1718 (CG)>, <Atom 1970 (CA)>, <Atom 1750 (CA)>, <Atom 1848 (C)>, <Atom 1941 (OD1)>, <Atom 11 (C)>, <Atom 28 (C)>, <Atom 1754 (N)>, <Atom 44 (C)>, <Atom 1821 (OD1)>, <Atom 20 (O)>, <Atom 1940 (CG)>, <Atom 57 (CA)>, <Atom 1671 (CD1)>, <Atom 1829 (CD1)>, <Atom 17 (N)>, <Atom 1846 (N)>, <Atom 1753 (CB)>, <Atom 1974 (CG)>, <Atom 45 (O)>, <Atom 25 (OE2)>, <Atom 35 (CA)>, <Atom 1826 (O)>, <Atom 62 (CG2)>, <Atom 65 (CA)>, <Atom 1962 (CA)>, <Atom 1832 (CE2)>, <Atom 1963 (C)>, <Atom 21 (CB)>, <Atom 1837 (O)>, <Atom 69 (CG)>, <Atom 38 (CB)>, <Atom 4010 (O)>, <Atom 1967 (CD1)>, <Atom 1844 (CD1)>, <Atom 1938 (O)>, <Atom 1780 (CD)>, <Atom 1719 (SD)>, <Atom 1751 (C)>, <Atom 1815 (N)>, <Atom 1942 (ND2)>, <Atom 1849 (O)>, <Atom 37 (O)>, <Atom 12 (O)>, <Atom 14 (CG)>, <Atom 1818 (O)>, <Atom 26 (N)>, <Atom 52 (CE)>, <Atom 1822 (ND2)>, <Atom 58 (C)>, <Atom 1782 (NZ)>, <Atom 1830 (CD2)>, <Atom 4096 (O)>, <Atom 1676 (O)>, <Atom 1816 (CA)>, <Atom 1975 (OD1)>, <Atom 4053 (O)>, <Atom 46 (CB)>, <Atom 27 (CA)>, <Atom 1827 (CB)>, <Atom 63 (CD1)>, <Atom 59 (O)>, <Atom 1823 (N)>, <Atom 1831 (CE1)>, <Atom 4068 (O)>, <Atom 66 (C)>, <Atom 18 (CA)>, <Atom 1773 (CB)>, <Atom 1833 (CZ)>, <Atom 1964 (O)>, <Atom 40 (OD1)>, <Atom 1806 (C)>, <Atom 1838 (CB)>, <Atom 1935 (N)>, <Atom 70 (ND1)>, <Atom 1968 (CD2)>, <Atom 24 (OE1)>, <Atom 4137 (O)>, <Atom 73 (NE2)>, <Atom 1939 (CB)>, <Atom 42 (N)>, <Atom 16 (CD2)>, <Atom 1781 (CE)>, <Atom 1720 (CE)>, <Atom 1752 (O)>, <Atom 3987 (O)>, <Atom 1850 (N)>, <Atom 1976 (ND2)>, <Atom 1819 (CB)>, <Atom 54 (NZ)>, <Atom 13 (CB)>, <Atom 48 (CG)>, <Atom 4054 (O)>, <Atom 1824 (CA)>, <Atom 60 (CB)>, <Atom 3969 (O)>, <Atom 1828 (CG)>, <Atom 64 (N)>, <Atom 33 (CD1)>, <Atom 1834 (N)>, <Atom 29 (O)>, <Atom 30 (CB)>, <Atom 1932 (C)>, <Atom 1835 (CA)>, <Atom 39 (CG)>, <Atom 1774 (N)>, <Atom 1965 (CB)>, <Atom 1807 (O)>, <Atom 22 (CG)>, <Atom 1840 (CG1)>, <Atom 132 (CE1)>, <Atom 1936 (CA)>, <Atom 71 (CD2)>, <Atom 43 (CA)>, <Atom 1778 (CB)>, <Atom 1969 (N)>, <Atom 1749 (N)>, <Atom 1847 (CA)>, <Atom 41 (ND2)>}\n",
      "{<Atom 1755 (CA)>, <Atom 1820 (CG)>, <Atom 32 (CG2)>, <Atom 56 (N)>, <Atom 19 (C)>, <Atom 4062 (O)>, <Atom 1961 (N)>, <Atom 1973 (CB)>, <Atom 34 (N)>, <Atom 1817 (C)>, <Atom 50 (CD)>, <Atom 1759 (CG1)>, <Atom 1825 (C)>, <Atom 4090 (O)>, <Atom 61 (CG1)>, <Atom 23 (CD)>, <Atom 1771 (C)>, <Atom 1962 (CA)>, <Atom 4005 (O)>, <Atom 31 (CG1)>, <Atom 1836 (C)>, <Atom 1933 (O)>, <Atom 68 (CB)>, <Atom 1775 (CA)>, <Atom 1966 (CG)>, <Atom 72 (CE1)>, <Atom 1842 (CG2)>, <Atom 1937 (C)>, <Atom 1779 (CG)>, <Atom 1970 (CA)>, <Atom 1750 (CA)>, <Atom 1848 (C)>, <Atom 1941 (OD1)>, <Atom 11 (C)>, <Atom 28 (C)>, <Atom 1754 (N)>, <Atom 44 (C)>, <Atom 36 (C)>, <Atom 1821 (OD1)>, <Atom 20 (O)>, <Atom 1940 (CG)>, <Atom 57 (CA)>, <Atom 1671 (CD1)>, <Atom 1829 (CD1)>, <Atom 1846 (N)>, <Atom 1753 (CB)>, <Atom 1943 (N)>, <Atom 1974 (CG)>, <Atom 45 (O)>, <Atom 25 (OE2)>, <Atom 35 (CA)>, <Atom 1826 (O)>, <Atom 62 (CG2)>, <Atom 65 (CA)>, <Atom 1832 (CE2)>, <Atom 1963 (C)>, <Atom 21 (CB)>, <Atom 1837 (O)>, <Atom 1934 (CB)>, <Atom 69 (CG)>, <Atom 38 (CB)>, <Atom 1776 (C)>, <Atom 4010 (O)>, <Atom 1967 (CD1)>, <Atom 1938 (O)>, <Atom 1780 (CD)>, <Atom 1719 (SD)>, <Atom 1971 (C)>, <Atom 1751 (C)>, <Atom 1815 (N)>, <Atom 1942 (ND2)>, <Atom 1849 (O)>, <Atom 12 (O)>, <Atom 1818 (O)>, <Atom 26 (N)>, <Atom 52 (CE)>, <Atom 58 (C)>, <Atom 1956 (C)>, <Atom 1782 (NZ)>, <Atom 1830 (CD2)>, <Atom 4096 (O)>, <Atom 1676 (O)>, <Atom 1816 (CA)>, <Atom 1975 (OD1)>, <Atom 4053 (O)>, <Atom 46 (CB)>, <Atom 1909 (O)>, <Atom 27 (CA)>, <Atom 1827 (CB)>, <Atom 63 (CD1)>, <Atom 59 (O)>, <Atom 1823 (N)>, <Atom 4068 (O)>, <Atom 18 (CA)>, <Atom 1773 (CB)>, <Atom 1833 (CZ)>, <Atom 40 (OD1)>, <Atom 1964 (O)>, <Atom 1806 (C)>, <Atom 1838 (CB)>, <Atom 1935 (N)>, <Atom 70 (ND1)>, <Atom 1968 (CD2)>, <Atom 24 (OE1)>, <Atom 4137 (O)>, <Atom 73 (NE2)>, <Atom 1939 (CB)>, <Atom 42 (N)>, <Atom 1781 (CE)>, <Atom 1720 (CE)>, <Atom 1752 (O)>, <Atom 3987 (O)>, <Atom 1976 (ND2)>, <Atom 1819 (CB)>, <Atom 54 (NZ)>, <Atom 1957 (O)>, <Atom 1831 (CE1)>, <Atom 48 (CG)>, <Atom 1824 (CA)>, <Atom 60 (CB)>, <Atom 3969 (O)>, <Atom 1828 (CG)>, <Atom 64 (N)>, <Atom 33 (CD1)>, <Atom 1834 (N)>, <Atom 29 (O)>, <Atom 17 (N)>, <Atom 30 (CB)>, <Atom 1932 (C)>, <Atom 1835 (CA)>, <Atom 39 (CG)>, <Atom 1774 (N)>, <Atom 1965 (CB)>, <Atom 1807 (O)>, <Atom 22 (CG)>, <Atom 1840 (CG1)>, <Atom 1936 (CA)>, <Atom 71 (CD2)>, <Atom 43 (CA)>, <Atom 1778 (CB)>, <Atom 1969 (N)>, <Atom 1749 (N)>, <Atom 1847 (CA)>, <Atom 41 (ND2)>}\n",
      "{<Atom 1820 (CG)>, <Atom 1666 (CA)>, <Atom 32 (CG2)>, <Atom 56 (N)>, <Atom 19 (C)>, <Atom 4062 (O)>, <Atom 4048 (O)>, <Atom 34 (N)>, <Atom 1802 (C)>, <Atom 1817 (C)>, <Atom 50 (CD)>, <Atom 4086 (O)>, <Atom 1670 (CG)>, <Atom 1825 (C)>, <Atom 4090 (O)>, <Atom 61 (CG1)>, <Atom 1771 (C)>, <Atom 1804 (N)>, <Atom 31 (CG1)>, <Atom 1836 (C)>, <Atom 1775 (CA)>, <Atom 1966 (CG)>, <Atom 1808 (CB)>, <Atom 72 (CE1)>, <Atom 1842 (CG2)>, <Atom 1779 (CG)>, <Atom 27 (CA)>, <Atom 1750 (CA)>, <Atom 1941 (OD1)>, <Atom 11 (C)>, <Atom 28 (C)>, <Atom 1754 (N)>, <Atom 44 (C)>, <Atom 36 (C)>, <Atom 1821 (OD1)>, <Atom 20 (O)>, <Atom 1940 (CG)>, <Atom 57 (CA)>, <Atom 1671 (CD1)>, <Atom 1829 (CD1)>, <Atom 1675 (C)>, <Atom 17 (N)>, <Atom 1846 (N)>, <Atom 1753 (CB)>, <Atom 1974 (CG)>, <Atom 1660 (O)>, <Atom 45 (O)>, <Atom 25 (OE2)>, <Atom 35 (CA)>, <Atom 1826 (O)>, <Atom 1772 (O)>, <Atom 1962 (CA)>, <Atom 1832 (CE2)>, <Atom 1963 (C)>, <Atom 21 (CB)>, <Atom 1837 (O)>, <Atom 69 (CG)>, <Atom 1776 (C)>, <Atom 1967 (CD1)>, <Atom 29 (O)>, <Atom 1938 (O)>, <Atom 1780 (CD)>, <Atom 33 (CD1)>, <Atom 1751 (C)>, <Atom 1815 (N)>, <Atom 1942 (ND2)>, <Atom 1849 (O)>, <Atom 37 (O)>, <Atom 12 (O)>, <Atom 1818 (O)>, <Atom 26 (N)>, <Atom 52 (CE)>, <Atom 1822 (ND2)>, <Atom 58 (C)>, <Atom 1782 (NZ)>, <Atom 23 (CD)>, <Atom 1830 (CD2)>, <Atom 4096 (O)>, <Atom 1676 (O)>, <Atom 1816 (CA)>, <Atom 1975 (OD1)>, <Atom 4053 (O)>, <Atom 46 (CB)>, <Atom 4088 (O)>, <Atom 1672 (CD2)>, <Atom 1827 (CB)>, <Atom 63 (CD1)>, <Atom 59 (O)>, <Atom 1823 (N)>, <Atom 18 (CA)>, <Atom 1773 (CB)>, <Atom 1833 (CZ)>, <Atom 40 (OD1)>, <Atom 1964 (O)>, <Atom 1806 (C)>, <Atom 1838 (CB)>, <Atom 70 (ND1)>, <Atom 1777 (O)>, <Atom 1968 (CD2)>, <Atom 24 (OE1)>, <Atom 4137 (O)>, <Atom 73 (NE2)>, <Atom 1939 (CB)>, <Atom 42 (N)>, <Atom 1781 (CE)>, <Atom 1720 (CE)>, <Atom 1752 (O)>, <Atom 3987 (O)>, <Atom 1976 (ND2)>, <Atom 1819 (CB)>, <Atom 1669 (CB)>, <Atom 1831 (CE1)>, <Atom 1770 (CA)>, <Atom 1834 (N)>, <Atom 48 (CG)>, <Atom 4054 (O)>, <Atom 1824 (CA)>, <Atom 60 (CB)>, <Atom 1673 (N)>, <Atom 3969 (O)>, <Atom 1828 (CG)>, <Atom 64 (N)>, <Atom 1805 (CA)>, <Atom 1803 (O)>, <Atom 30 (CB)>, <Atom 1835 (CA)>, <Atom 39 (CG)>, <Atom 1774 (N)>, <Atom 1965 (CB)>, <Atom 1807 (O)>, <Atom 22 (CG)>, <Atom 1840 (CG1)>, <Atom 71 (CD2)>, <Atom 43 (CA)>, <Atom 1778 (CB)>, <Atom 1969 (N)>, <Atom 1749 (N)>, <Atom 1847 (CA)>, <Atom 41 (ND2)>}\n",
      "{<Atom 48 (CG)>, <Atom 1820 (CG)>, <Atom 1666 (CA)>, <Atom 32 (CG2)>, <Atom 56 (N)>, <Atom 19 (C)>, <Atom 4062 (O)>, <Atom 1674 (CA)>, <Atom 4048 (O)>, <Atom 1659 (C)>, <Atom 34 (N)>, <Atom 50 (CD)>, <Atom 4086 (O)>, <Atom 1670 (CG)>, <Atom 1825 (C)>, <Atom 4090 (O)>, <Atom 61 (CG1)>, <Atom 23 (CD)>, <Atom 1771 (C)>, <Atom 1804 (N)>, <Atom 31 (CG1)>, <Atom 1836 (C)>, <Atom 1775 (CA)>, <Atom 1966 (CG)>, <Atom 1652 (O)>, <Atom 1808 (CB)>, <Atom 72 (CE1)>, <Atom 1842 (CG2)>, <Atom 1779 (CG)>, <Atom 1801 (CA)>, <Atom 1750 (CA)>, <Atom 1941 (OD1)>, <Atom 1783 (N)>, <Atom 1660 (O)>, <Atom 11 (C)>, <Atom 28 (C)>, <Atom 1754 (N)>, <Atom 44 (C)>, <Atom 1817 (C)>, <Atom 36 (C)>, <Atom 1821 (OD1)>, <Atom 1667 (C)>, <Atom 20 (O)>, <Atom 57 (CA)>, <Atom 1671 (CD1)>, <Atom 1829 (CD1)>, <Atom 1675 (C)>, <Atom 17 (N)>, <Atom 1846 (N)>, <Atom 1753 (CB)>, <Atom 45 (O)>, <Atom 1656 (ND2)>, <Atom 25 (OE2)>, <Atom 35 (CA)>, <Atom 1826 (O)>, <Atom 1772 (O)>, <Atom 1962 (CA)>, <Atom 1803 (O)>, <Atom 1832 (CE2)>, <Atom 1963 (C)>, <Atom 1649 (N)>, <Atom 1679 (CG2)>, <Atom 21 (CB)>, <Atom 1837 (O)>, <Atom 38 (CB)>, <Atom 1776 (C)>, <Atom 1967 (CD1)>, <Atom 29 (O)>, <Atom 1809 (CG)>, <Atom 1844 (CD1)>, <Atom 1780 (CD)>, <Atom 1657 (N)>, <Atom 1751 (C)>, <Atom 1815 (N)>, <Atom 37 (O)>, <Atom 12 (O)>, <Atom 1677 (CB)>, <Atom 1818 (O)>, <Atom 26 (N)>, <Atom 1822 (ND2)>, <Atom 1782 (NZ)>, <Atom 1830 (CD2)>, <Atom 4096 (O)>, <Atom 1676 (O)>, <Atom 1769 (N)>, <Atom 1816 (CA)>, <Atom 1975 (OD1)>, <Atom 4053 (O)>, <Atom 46 (CB)>, <Atom 4088 (O)>, <Atom 27 (CA)>, <Atom 1672 (CD2)>, <Atom 1827 (CB)>, <Atom 1800 (N)>, <Atom 1823 (N)>, <Atom 1802 (C)>, <Atom 18 (CA)>, <Atom 1773 (CB)>, <Atom 1833 (CZ)>, <Atom 40 (OD1)>, <Atom 1964 (O)>, <Atom 1650 (CA)>, <Atom 1806 (C)>, <Atom 1838 (CB)>, <Atom 1777 (O)>, <Atom 1968 (CD2)>, <Atom 24 (OE1)>, <Atom 4137 (O)>, <Atom 73 (NE2)>, <Atom 42 (N)>, <Atom 1781 (CE)>, <Atom 1720 (CE)>, <Atom 1752 (O)>, <Atom 3987 (O)>, <Atom 1819 (CB)>, <Atom 1665 (N)>, <Atom 1669 (CB)>, <Atom 1831 (CE1)>, <Atom 1770 (CA)>, <Atom 4054 (O)>, <Atom 1824 (CA)>, <Atom 60 (CB)>, <Atom 1658 (CA)>, <Atom 1673 (N)>, <Atom 3969 (O)>, <Atom 1828 (CG)>, <Atom 1805 (CA)>, <Atom 33 (CD1)>, <Atom 1834 (N)>, <Atom 30 (CB)>, <Atom 1835 (CA)>, <Atom 1774 (N)>, <Atom 1965 (CB)>, <Atom 1651 (C)>, <Atom 1745 (O)>, <Atom 1807 (O)>, <Atom 22 (CG)>, <Atom 1840 (CG1)>, <Atom 71 (CD2)>, <Atom 43 (CA)>, <Atom 1778 (CB)>, <Atom 1749 (N)>, <Atom 1847 (CA)>, <Atom 41 (ND2)>}\n",
      "{<Atom 1755 (CA)>, <Atom 1820 (CG)>, <Atom 1666 (CA)>, <Atom 32 (CG2)>, <Atom 56 (N)>, <Atom 19 (C)>, <Atom 4062 (O)>, <Atom 1800 (N)>, <Atom 4048 (O)>, <Atom 1659 (C)>, <Atom 50 (CD)>, <Atom 1670 (CG)>, <Atom 1825 (C)>, <Atom 4090 (O)>, <Atom 61 (CG1)>, <Atom 23 (CD)>, <Atom 1674 (CA)>, <Atom 1829 (CD1)>, <Atom 1771 (C)>, <Atom 1678 (CG1)>, <Atom 31 (CG1)>, <Atom 1836 (C)>, <Atom 1775 (CA)>, <Atom 1966 (CG)>, <Atom 1652 (O)>, <Atom 1808 (CB)>, <Atom 72 (CE1)>, <Atom 1842 (CG2)>, <Atom 1779 (CG)>, <Atom 1801 (CA)>, <Atom 1750 (CA)>, <Atom 1941 (OD1)>, <Atom 1783 (N)>, <Atom 1660 (O)>, <Atom 28 (C)>, <Atom 1754 (N)>, <Atom 44 (C)>, <Atom 1817 (C)>, <Atom 1756 (C)>, <Atom 36 (C)>, <Atom 1821 (OD1)>, <Atom 1667 (C)>, <Atom 20 (O)>, <Atom 57 (CA)>, <Atom 1764 (C)>, <Atom 1671 (CD1)>, <Atom 4063 (O)>, <Atom 1675 (C)>, <Atom 17 (N)>, <Atom 1753 (CB)>, <Atom 45 (O)>, <Atom 1656 (ND2)>, <Atom 25 (OE2)>, <Atom 35 (CA)>, <Atom 1826 (O)>, <Atom 1772 (O)>, <Atom 1962 (CA)>, <Atom 1803 (O)>, <Atom 38 (CB)>, <Atom 1832 (CE2)>, <Atom 1963 (C)>, <Atom 1649 (N)>, <Atom 1679 (CG2)>, <Atom 21 (CB)>, <Atom 1837 (O)>, <Atom 1776 (C)>, <Atom 1653 (CB)>, <Atom 1967 (CD1)>, <Atom 29 (O)>, <Atom 1809 (CG)>, <Atom 1844 (CD1)>, <Atom 1780 (CD)>, <Atom 1719 (SD)>, <Atom 33 (CD1)>, <Atom 1751 (C)>, <Atom 1815 (N)>, <Atom 1849 (O)>, <Atom 37 (O)>, <Atom 12 (O)>, <Atom 1677 (CB)>, <Atom 1818 (O)>, <Atom 26 (N)>, <Atom 1822 (ND2)>, <Atom 1668 (O)>, <Atom 1794 (C)>, <Atom 1765 (O)>, <Atom 1782 (NZ)>, <Atom 1830 (CD2)>, <Atom 4096 (O)>, <Atom 1676 (O)>, <Atom 1769 (N)>, <Atom 1816 (CA)>, <Atom 1975 (OD1)>, <Atom 4053 (O)>, <Atom 46 (CB)>, <Atom 1757 (O)>, <Atom 4088 (O)>, <Atom 1657 (N)>, <Atom 1804 (N)>, <Atom 27 (CA)>, <Atom 1672 (CD2)>, <Atom 1802 (C)>, <Atom 18 (CA)>, <Atom 1773 (CB)>, <Atom 1833 (CZ)>, <Atom 1964 (O)>, <Atom 1650 (CA)>, <Atom 1680 (N)>, <Atom 1744 (C)>, <Atom 1806 (C)>, <Atom 1838 (CB)>, <Atom 1777 (O)>, <Atom 1968 (CD2)>, <Atom 1748 (CG2)>, <Atom 4137 (O)>, <Atom 1810 (CD)>, <Atom 73 (NE2)>, <Atom 1846 (N)>, <Atom 42 (N)>, <Atom 1781 (CE)>, <Atom 1720 (CE)>, <Atom 34 (N)>, <Atom 1752 (O)>, <Atom 3987 (O)>, <Atom 1819 (CB)>, <Atom 1665 (N)>, <Atom 1823 (N)>, <Atom 1669 (CB)>, <Atom 1827 (CB)>, <Atom 63 (CD1)>, <Atom 1831 (CE1)>, <Atom 1770 (CA)>, <Atom 1834 (N)>, <Atom 48 (CG)>, <Atom 4054 (O)>, <Atom 1824 (CA)>, <Atom 60 (CB)>, <Atom 1658 (CA)>, <Atom 1673 (N)>, <Atom 3969 (O)>, <Atom 1828 (CG)>, <Atom 1805 (CA)>, <Atom 30 (CB)>, <Atom 1835 (CA)>, <Atom 39 (CG)>, <Atom 1774 (N)>, <Atom 1681 (CA)>, <Atom 1965 (CB)>, <Atom 1651 (C)>, <Atom 1745 (O)>, <Atom 1807 (O)>, <Atom 22 (CG)>, <Atom 1840 (CG1)>, <Atom 71 (CD2)>, <Atom 43 (CA)>, <Atom 1778 (CB)>, <Atom 1749 (N)>, <Atom 1847 (CA)>, <Atom 41 (ND2)>}\n",
      "{<Atom 1820 (CG)>, <Atom 1666 (CA)>, <Atom 32 (CG2)>, <Atom 56 (N)>, <Atom 3997 (O)>, <Atom 19 (C)>, <Atom 4062 (O)>, <Atom 1674 (CA)>, <Atom 4048 (O)>, <Atom 1659 (C)>, <Atom 34 (N)>, <Atom 1817 (C)>, <Atom 50 (CD)>, <Atom 4086 (O)>, <Atom 1670 (CG)>, <Atom 1825 (C)>, <Atom 4090 (O)>, <Atom 23 (CD)>, <Atom 1771 (C)>, <Atom 1804 (N)>, <Atom 31 (CG1)>, <Atom 1836 (C)>, <Atom 1775 (CA)>, <Atom 1966 (CG)>, <Atom 1652 (O)>, <Atom 1808 (CB)>, <Atom 1842 (CG2)>, <Atom 1779 (CG)>, <Atom 1801 (CA)>, <Atom 1750 (CA)>, <Atom 1783 (N)>, <Atom 11 (C)>, <Atom 28 (C)>, <Atom 44 (C)>, <Atom 1821 (OD1)>, <Atom 1667 (C)>, <Atom 20 (O)>, <Atom 1671 (CD1)>, <Atom 1829 (CD1)>, <Atom 4063 (O)>, <Atom 17 (N)>, <Atom 1846 (N)>, <Atom 1753 (CB)>, <Atom 1660 (O)>, <Atom 45 (O)>, <Atom 1656 (ND2)>, <Atom 25 (OE2)>, <Atom 35 (CA)>, <Atom 1826 (O)>, <Atom 1675 (C)>, <Atom 1830 (CD2)>, <Atom 1772 (O)>, <Atom 1649 (N)>, <Atom 1832 (CE2)>, <Atom 1679 (CG2)>, <Atom 1805 (CA)>, <Atom 21 (CB)>, <Atom 1837 (O)>, <Atom 38 (CB)>, <Atom 1776 (C)>, <Atom 1653 (CB)>, <Atom 1967 (CD1)>, <Atom 1809 (CG)>, <Atom 1780 (CD)>, <Atom 1657 (N)>, <Atom 1751 (C)>, <Atom 1815 (N)>, <Atom 37 (O)>, <Atom 12 (O)>, <Atom 1677 (CB)>, <Atom 1818 (O)>, <Atom 26 (N)>, <Atom 1822 (ND2)>, <Atom 1782 (NZ)>, <Atom 4096 (O)>, <Atom 1676 (O)>, <Atom 1816 (CA)>, <Atom 1975 (OD1)>, <Atom 4053 (O)>, <Atom 46 (CB)>, <Atom 4088 (O)>, <Atom 27 (CA)>, <Atom 1672 (CD2)>, <Atom 1827 (CB)>, <Atom 1800 (N)>, <Atom 1823 (N)>, <Atom 1802 (C)>, <Atom 18 (CA)>, <Atom 1773 (CB)>, <Atom 1833 (CZ)>, <Atom 40 (OD1)>, <Atom 1650 (CA)>, <Atom 1806 (C)>, <Atom 1838 (CB)>, <Atom 1777 (O)>, <Atom 1654 (CG)>, <Atom 1968 (CD2)>, <Atom 4137 (O)>, <Atom 73 (NE2)>, <Atom 42 (N)>, <Atom 1781 (CE)>, <Atom 1658 (CA)>, <Atom 1752 (O)>, <Atom 3987 (O)>, <Atom 1819 (CB)>, <Atom 1665 (N)>, <Atom 1669 (CB)>, <Atom 1831 (CE1)>, <Atom 1770 (CA)>, <Atom 48 (CG)>, <Atom 4054 (O)>, <Atom 36 (C)>, <Atom 1824 (CA)>, <Atom 1673 (N)>, <Atom 3969 (O)>, <Atom 1828 (CG)>, <Atom 33 (CD1)>, <Atom 1834 (N)>, <Atom 29 (O)>, <Atom 1803 (O)>, <Atom 30 (CB)>, <Atom 1835 (CA)>, <Atom 39 (CG)>, <Atom 1774 (N)>, <Atom 1965 (CB)>, <Atom 1651 (C)>, <Atom 1807 (O)>, <Atom 22 (CG)>, <Atom 1840 (CG1)>, <Atom 43 (CA)>, <Atom 1778 (CB)>}\n",
      "{<Atom 10 (CA)>, <Atom 1851 (CA)>, <Atom 1820 (CG)>, <Atom 4086 (O)>, <Atom 32 (CG2)>, <Atom 56 (N)>, <Atom 19 (C)>, <Atom 1973 (CB)>, <Atom 1911 (CG1)>, <Atom 1852 (C)>, <Atom 50 (CD)>, <Atom 1670 (CG)>, <Atom 1825 (C)>, <Atom 61 (CG1)>, <Atom 23 (CD)>, <Atom 1829 (CD1)>, <Atom 130 (CD1)>, <Atom 4005 (O)>, <Atom 31 (CG1)>, <Atom 1782 (NZ)>, <Atom 1836 (C)>, <Atom 1933 (O)>, <Atom 68 (CB)>, <Atom 1775 (CA)>, <Atom 1966 (CG)>, <Atom 72 (CE1)>, <Atom 1842 (CG2)>, <Atom 1937 (C)>, <Atom 1779 (CG)>, <Atom 1718 (CG)>, <Atom 1970 (CA)>, <Atom 1750 (CA)>, <Atom 1848 (C)>, <Atom 1941 (OD1)>, <Atom 11 (C)>, <Atom 28 (C)>, <Atom 1754 (N)>, <Atom 44 (C)>, <Atom 1817 (C)>, <Atom 36 (C)>, <Atom 1821 (OD1)>, <Atom 20 (O)>, <Atom 1940 (CG)>, <Atom 57 (CA)>, <Atom 1671 (CD1)>, <Atom 17 (N)>, <Atom 1753 (CB)>, <Atom 1943 (N)>, <Atom 1974 (CG)>, <Atom 45 (O)>, <Atom 25 (OE2)>, <Atom 35 (CA)>, <Atom 1826 (O)>, <Atom 62 (CG2)>, <Atom 1962 (CA)>, <Atom 4068 (O)>, <Atom 65 (CA)>, <Atom 1963 (C)>, <Atom 1832 (CE2)>, <Atom 21 (CB)>, <Atom 1837 (O)>, <Atom 1934 (CB)>, <Atom 69 (CG)>, <Atom 38 (CB)>, <Atom 4010 (O)>, <Atom 1967 (CD1)>, <Atom 29 (O)>, <Atom 74 (N)>, <Atom 1844 (CD1)>, <Atom 1938 (O)>, <Atom 1780 (CD)>, <Atom 1719 (SD)>, <Atom 1751 (C)>, <Atom 1815 (N)>, <Atom 1942 (ND2)>, <Atom 1849 (O)>, <Atom 37 (O)>, <Atom 1691 (O)>, <Atom 12 (O)>, <Atom 14 (CG)>, <Atom 1818 (O)>, <Atom 26 (N)>, <Atom 52 (CE)>, <Atom 58 (C)>, <Atom 1830 (CD2)>, <Atom 4096 (O)>, <Atom 1676 (O)>, <Atom 1816 (CA)>, <Atom 1975 (OD1)>, <Atom 4053 (O)>, <Atom 1854 (CB)>, <Atom 46 (CB)>, <Atom 1909 (O)>, <Atom 27 (CA)>, <Atom 1827 (CB)>, <Atom 63 (CD1)>, <Atom 59 (O)>, <Atom 66 (C)>, <Atom 18 (CA)>, <Atom 1773 (CB)>, <Atom 1833 (CZ)>, <Atom 40 (OD1)>, <Atom 1964 (O)>, <Atom 1806 (C)>, <Atom 1838 (CB)>, <Atom 1935 (N)>, <Atom 70 (ND1)>, <Atom 1968 (CD2)>, <Atom 24 (OE1)>, <Atom 4137 (O)>, <Atom 73 (NE2)>, <Atom 134 (CZ)>, <Atom 1846 (N)>, <Atom 1939 (CB)>, <Atom 16 (CD2)>, <Atom 1781 (CE)>, <Atom 1720 (CE)>, <Atom 34 (N)>, <Atom 1752 (O)>, <Atom 3987 (O)>, <Atom 1850 (N)>, <Atom 1976 (ND2)>, <Atom 1819 (CB)>, <Atom 1823 (N)>, <Atom 54 (NZ)>, <Atom 13 (CB)>, <Atom 1831 (CE1)>, <Atom 1834 (N)>, <Atom 48 (CG)>, <Atom 4054 (O)>, <Atom 1824 (CA)>, <Atom 15 (CD1)>, <Atom 60 (CB)>, <Atom 3969 (O)>, <Atom 1828 (CG)>, <Atom 64 (N)>, <Atom 33 (CD1)>, <Atom 1961 (N)>, <Atom 1932 (C)>, <Atom 67 (O)>, <Atom 30 (CB)>, <Atom 1835 (CA)>, <Atom 39 (CG)>, <Atom 1774 (N)>, <Atom 1965 (CB)>, <Atom 1807 (O)>, <Atom 22 (CG)>, <Atom 1840 (CG1)>, <Atom 132 (CE1)>, <Atom 1936 (CA)>, <Atom 71 (CD2)>, <Atom 43 (CA)>, <Atom 1778 (CB)>, <Atom 1717 (CB)>, <Atom 1969 (N)>, <Atom 1749 (N)>, <Atom 1847 (CA)>, <Atom 41 (ND2)>}\n",
      "{<Atom 10 (CA)>, <Atom 1851 (CA)>, <Atom 48 (CG)>, <Atom 32 (CG2)>, <Atom 56 (N)>, <Atom 1734 (O)>, <Atom 19 (C)>, <Atom 89 (SD)>, <Atom 1973 (CB)>, <Atom 1911 (CG1)>, <Atom 4017 (O)>, <Atom 50 (CD)>, <Atom 1856 (N)>, <Atom 1825 (C)>, <Atom 61 (CG1)>, <Atom 23 (CD)>, <Atom 130 (CD1)>, <Atom 44 (C)>, <Atom 1962 (CA)>, <Atom 4005 (O)>, <Atom 31 (CG1)>, <Atom 1836 (C)>, <Atom 1933 (O)>, <Atom 68 (CB)>, <Atom 1966 (CG)>, <Atom 72 (CE1)>, <Atom 1842 (CG2)>, <Atom 1937 (C)>, <Atom 1907 (CA)>, <Atom 1779 (CG)>, <Atom 1718 (CG)>, <Atom 1970 (CA)>, <Atom 1750 (CA)>, <Atom 1848 (C)>, <Atom 1941 (OD1)>, <Atom 11 (C)>, <Atom 28 (C)>, <Atom 1754 (N)>, <Atom 1817 (C)>, <Atom 36 (C)>, <Atom 1821 (OD1)>, <Atom 1832 (CE2)>, <Atom 20 (O)>, <Atom 1940 (CG)>, <Atom 57 (CA)>, <Atom 1671 (CD1)>, <Atom 1829 (CD1)>, <Atom 1753 (CB)>, <Atom 1943 (N)>, <Atom 1974 (CG)>, <Atom 73 (NE2)>, <Atom 45 (O)>, <Atom 25 (OE2)>, <Atom 35 (CA)>, <Atom 1826 (O)>, <Atom 4068 (O)>, <Atom 62 (CG2)>, <Atom 1930 (N)>, <Atom 1963 (C)>, <Atom 65 (CA)>, <Atom 21 (CB)>, <Atom 1837 (O)>, <Atom 1934 (CB)>, <Atom 69 (CG)>, <Atom 38 (CB)>, <Atom 4010 (O)>, <Atom 1967 (CD1)>, <Atom 29 (O)>, <Atom 74 (N)>, <Atom 1938 (O)>, <Atom 1908 (C)>, <Atom 1780 (CD)>, <Atom 1719 (SD)>, <Atom 1751 (C)>, <Atom 1942 (ND2)>, <Atom 1849 (O)>, <Atom 1912 (CG2)>, <Atom 37 (O)>, <Atom 1691 (O)>, <Atom 12 (O)>, <Atom 14 (CG)>, <Atom 1852 (C)>, <Atom 26 (N)>, <Atom 52 (CE)>, <Atom 58 (C)>, <Atom 1782 (NZ)>, <Atom 1830 (CD2)>, <Atom 4096 (O)>, <Atom 1676 (O)>, <Atom 1816 (CA)>, <Atom 1975 (OD1)>, <Atom 4053 (O)>, <Atom 1854 (CB)>, <Atom 46 (CB)>, <Atom 1909 (O)>, <Atom 75 (CA)>, <Atom 27 (CA)>, <Atom 59 (O)>, <Atom 1827 (CB)>, <Atom 1931 (CA)>, <Atom 66 (C)>, <Atom 18 (CA)>, <Atom 1833 (CZ)>, <Atom 40 (OD1)>, <Atom 1964 (O)>, <Atom 1838 (CB)>, <Atom 1935 (N)>, <Atom 70 (ND1)>, <Atom 1968 (CD2)>, <Atom 24 (OE1)>, <Atom 4137 (O)>, <Atom 134 (CZ)>, <Atom 1846 (N)>, <Atom 1939 (CB)>, <Atom 42 (N)>, <Atom 16 (CD2)>, <Atom 1781 (CE)>, <Atom 1720 (CE)>, <Atom 34 (N)>, <Atom 1752 (O)>, <Atom 3987 (O)>, <Atom 1850 (N)>, <Atom 1913 (N)>, <Atom 1976 (ND2)>, <Atom 1819 (CB)>, <Atom 1823 (N)>, <Atom 54 (NZ)>, <Atom 13 (CB)>, <Atom 63 (CD1)>, <Atom 1831 (CE1)>, <Atom 1834 (N)>, <Atom 1824 (CA)>, <Atom 15 (CD1)>, <Atom 1910 (CB)>, <Atom 60 (CB)>, <Atom 3969 (O)>, <Atom 1828 (CG)>, <Atom 64 (N)>, <Atom 33 (CD1)>, <Atom 17 (N)>, <Atom 1961 (N)>, <Atom 1932 (C)>, <Atom 67 (O)>, <Atom 30 (CB)>, <Atom 1835 (CA)>, <Atom 39 (CG)>, <Atom 1965 (CB)>, <Atom 22 (CG)>, <Atom 1840 (CG1)>, <Atom 132 (CE1)>, <Atom 1936 (CA)>, <Atom 71 (CD2)>, <Atom 1778 (CB)>, <Atom 1717 (CB)>, <Atom 1969 (N)>, <Atom 1749 (N)>, <Atom 1847 (CA)>, <Atom 41 (ND2)>}\n"
     ]
    },
    {
     "output_type": "error",
     "ename": "KeyboardInterrupt",
     "evalue": "",
     "traceback": [
      "\u001b[0;31m---------------------------------------------------------------------------\u001b[0m",
      "\u001b[0;31mKeyboardInterrupt\u001b[0m                         Traceback (most recent call last)",
      "\u001b[0;32m<ipython-input-42-958fe0ac3511>\u001b[0m in \u001b[0;36m<module>\u001b[0;34m\u001b[0m\n\u001b[0;32m----> 1\u001b[0;31m \u001b[0mh_bond\u001b[0m\u001b[0;34m(\u001b[0m\u001b[0matoms\u001b[0m\u001b[0;34m)\u001b[0m\u001b[0;34m\u001b[0m\u001b[0;34m\u001b[0m\u001b[0m\n\u001b[0m",
      "\u001b[0;32m<ipython-input-41-7f1ca77ebe04>\u001b[0m in \u001b[0;36mh_bond\u001b[0;34m(atoms, *B_turn)\u001b[0m\n\u001b[1;32m      3\u001b[0m \u001b[0;32mdef\u001b[0m \u001b[0mh_bond\u001b[0m\u001b[0;34m(\u001b[0m\u001b[0matoms\u001b[0m\u001b[0;34m,\u001b[0m \u001b[0;34m*\u001b[0m\u001b[0mB_turn\u001b[0m\u001b[0;34m)\u001b[0m\u001b[0;34m:\u001b[0m\u001b[0;34m\u001b[0m\u001b[0;34m\u001b[0m\u001b[0m\n\u001b[1;32m      4\u001b[0m     \u001b[0;32mfor\u001b[0m \u001b[0matom\u001b[0m \u001b[0;32min\u001b[0m \u001b[0matoms\u001b[0m\u001b[0;34m:\u001b[0m\u001b[0;34m\u001b[0m\u001b[0;34m\u001b[0m\u001b[0m\n\u001b[0;32m----> 5\u001b[0;31m         \u001b[0mprint\u001b[0m\u001b[0;34m(\u001b[0m\u001b[0matom\u001b[0m\u001b[0;34m.\u001b[0m\u001b[0mnearby_atoms\u001b[0m\u001b[0;34m(\u001b[0m\u001b[0;36m10\u001b[0m\u001b[0;34m)\u001b[0m\u001b[0;34m)\u001b[0m\u001b[0;34m\u001b[0m\u001b[0;34m\u001b[0m\u001b[0m\n\u001b[0m",
      "\u001b[0;32m~/desktop/python/anaconda/envs/myenv/lib/python3.7/site-packages/atomium/structures.py\u001b[0m in \u001b[0;36mnearby_atoms\u001b[0;34m(self, cutoff, *args, **kwargs)\u001b[0m\n\u001b[1;32m   1271\u001b[0m         \u001b[0;32mif\u001b[0m \u001b[0mself\u001b[0m\u001b[0;34m.\u001b[0m\u001b[0mmodel\u001b[0m\u001b[0;34m:\u001b[0m\u001b[0;34m\u001b[0m\u001b[0;34m\u001b[0m\u001b[0m\n\u001b[1;32m   1272\u001b[0m             atoms =  self.model.atoms_in_sphere(\n\u001b[0;32m-> 1273\u001b[0;31m              \u001b[0mself\u001b[0m\u001b[0;34m.\u001b[0m\u001b[0mlocation\u001b[0m\u001b[0;34m,\u001b[0m \u001b[0mcutoff\u001b[0m\u001b[0;34m,\u001b[0m \u001b[0;34m*\u001b[0m\u001b[0margs\u001b[0m\u001b[0;34m,\u001b[0m \u001b[0;34m**\u001b[0m\u001b[0mkwargs\u001b[0m\u001b[0;34m\u001b[0m\u001b[0;34m\u001b[0m\u001b[0m\n\u001b[0m\u001b[1;32m   1274\u001b[0m             )\n\u001b[1;32m   1275\u001b[0m             \u001b[0;32mtry\u001b[0m\u001b[0;34m:\u001b[0m\u001b[0;34m\u001b[0m\u001b[0;34m\u001b[0m\u001b[0m\n",
      "\u001b[0;32m~/desktop/python/anaconda/envs/myenv/lib/python3.7/site-packages/atomium/structures.py\u001b[0m in \u001b[0;36matoms_in_sphere\u001b[0;34m(self, location, radius, *args, **kwargs)\u001b[0m\n\u001b[1;32m    260\u001b[0m         \u001b[0;32melse\u001b[0m\u001b[0;34m:\u001b[0m\u001b[0;34m\u001b[0m\u001b[0;34m\u001b[0m\u001b[0m\n\u001b[1;32m    261\u001b[0m             \u001b[0matoms\u001b[0m \u001b[0;34m=\u001b[0m \u001b[0mself\u001b[0m\u001b[0;34m.\u001b[0m\u001b[0matoms\u001b[0m\u001b[0;34m(\u001b[0m\u001b[0;34m*\u001b[0m\u001b[0margs\u001b[0m\u001b[0;34m,\u001b[0m \u001b[0;34m**\u001b[0m\u001b[0mkwargs\u001b[0m\u001b[0;34m)\u001b[0m\u001b[0;34m\u001b[0m\u001b[0;34m\u001b[0m\u001b[0m\n\u001b[0;32m--> 262\u001b[0;31m         \u001b[0;32mreturn\u001b[0m \u001b[0;34m{\u001b[0m\u001b[0ma\u001b[0m \u001b[0;32mfor\u001b[0m \u001b[0ma\u001b[0m \u001b[0;32min\u001b[0m \u001b[0matoms\u001b[0m \u001b[0;32mif\u001b[0m \u001b[0ma\u001b[0m\u001b[0;34m.\u001b[0m\u001b[0mdistance_to\u001b[0m\u001b[0;34m(\u001b[0m\u001b[0mlocation\u001b[0m\u001b[0;34m)\u001b[0m \u001b[0;34m<=\u001b[0m \u001b[0mradius\u001b[0m\u001b[0;34m}\u001b[0m\u001b[0;34m\u001b[0m\u001b[0;34m\u001b[0m\u001b[0m\n\u001b[0m\u001b[1;32m    263\u001b[0m \u001b[0;34m\u001b[0m\u001b[0m\n\u001b[1;32m    264\u001b[0m \u001b[0;34m\u001b[0m\u001b[0m\n",
      "\u001b[0;32m~/desktop/python/anaconda/envs/myenv/lib/python3.7/site-packages/atomium/structures.py\u001b[0m in \u001b[0;36m<setcomp>\u001b[0;34m(.0)\u001b[0m\n\u001b[1;32m    260\u001b[0m         \u001b[0;32melse\u001b[0m\u001b[0;34m:\u001b[0m\u001b[0;34m\u001b[0m\u001b[0;34m\u001b[0m\u001b[0m\n\u001b[1;32m    261\u001b[0m             \u001b[0matoms\u001b[0m \u001b[0;34m=\u001b[0m \u001b[0mself\u001b[0m\u001b[0;34m.\u001b[0m\u001b[0matoms\u001b[0m\u001b[0;34m(\u001b[0m\u001b[0;34m*\u001b[0m\u001b[0margs\u001b[0m\u001b[0;34m,\u001b[0m \u001b[0;34m**\u001b[0m\u001b[0mkwargs\u001b[0m\u001b[0;34m)\u001b[0m\u001b[0;34m\u001b[0m\u001b[0;34m\u001b[0m\u001b[0m\n\u001b[0;32m--> 262\u001b[0;31m         \u001b[0;32mreturn\u001b[0m \u001b[0;34m{\u001b[0m\u001b[0ma\u001b[0m \u001b[0;32mfor\u001b[0m \u001b[0ma\u001b[0m \u001b[0;32min\u001b[0m \u001b[0matoms\u001b[0m \u001b[0;32mif\u001b[0m \u001b[0ma\u001b[0m\u001b[0;34m.\u001b[0m\u001b[0mdistance_to\u001b[0m\u001b[0;34m(\u001b[0m\u001b[0mlocation\u001b[0m\u001b[0;34m)\u001b[0m \u001b[0;34m<=\u001b[0m \u001b[0mradius\u001b[0m\u001b[0;34m}\u001b[0m\u001b[0;34m\u001b[0m\u001b[0;34m\u001b[0m\u001b[0m\n\u001b[0m\u001b[1;32m    263\u001b[0m \u001b[0;34m\u001b[0m\u001b[0m\n\u001b[1;32m    264\u001b[0m \u001b[0;34m\u001b[0m\u001b[0m\n",
      "\u001b[0;32m~/desktop/python/anaconda/envs/myenv/lib/python3.7/site-packages/atomium/structures.py\u001b[0m in \u001b[0;36mdistance_to\u001b[0;34m(self, other)\u001b[0m\n\u001b[1;32m   1200\u001b[0m         :rtype: ``float``\"\"\"\n\u001b[1;32m   1201\u001b[0m \u001b[0;34m\u001b[0m\u001b[0m\n\u001b[0;32m-> 1202\u001b[0;31m         \u001b[0;32mreturn\u001b[0m \u001b[0mnp\u001b[0m\u001b[0;34m.\u001b[0m\u001b[0mlinalg\u001b[0m\u001b[0;34m.\u001b[0m\u001b[0mnorm\u001b[0m\u001b[0;34m(\u001b[0m\u001b[0mself\u001b[0m\u001b[0;34m.\u001b[0m\u001b[0m_location\u001b[0m \u001b[0;34m-\u001b[0m \u001b[0mnp\u001b[0m\u001b[0;34m.\u001b[0m\u001b[0marray\u001b[0m\u001b[0;34m(\u001b[0m\u001b[0mlist\u001b[0m\u001b[0;34m(\u001b[0m\u001b[0mother\u001b[0m\u001b[0;34m)\u001b[0m\u001b[0;34m)\u001b[0m\u001b[0;34m)\u001b[0m\u001b[0;34m\u001b[0m\u001b[0;34m\u001b[0m\u001b[0m\n\u001b[0m\u001b[1;32m   1203\u001b[0m \u001b[0;34m\u001b[0m\u001b[0m\n\u001b[1;32m   1204\u001b[0m \u001b[0;34m\u001b[0m\u001b[0m\n",
      "\u001b[0;31mKeyboardInterrupt\u001b[0m: "
     ]
    }
   ],
   "source": [
    "h_bond(atoms)"
   ]
  },
  {
   "cell_type": "code",
   "execution_count": 6,
   "metadata": {},
   "outputs": [],
   "source": [
    "angles = get_angles('1g60.pdb', 'A', 30)"
   ]
  },
  {
   "cell_type": "code",
   "execution_count": 7,
   "metadata": {},
   "outputs": [],
   "source": [
    "B_angles = [60, -120, -80, 0]"
   ]
  },
  {
   "cell_type": "code",
   "execution_count": 8,
   "metadata": {},
   "outputs": [],
   "source": [
    "for i in range(len(angles)):\n",
    "    if angles[i] == 60:\n",
    "        if angles[i + 1] == -120:\n",
    "            if angles[i + 2] == -80:\n",
    "                if angles[i + 3] == 0:\n",
    "                    print('B')"
   ]
  },
  {
   "cell_type": "code",
   "execution_count": null,
   "metadata": {},
   "outputs": [],
   "source": []
  }
 ]
}