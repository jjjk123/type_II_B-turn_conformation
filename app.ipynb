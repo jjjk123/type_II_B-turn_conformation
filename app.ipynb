{
 "metadata": {
  "language_info": {
   "codemirror_mode": {
    "name": "ipython",
    "version": 3
   },
   "file_extension": ".py",
   "mimetype": "text/x-python",
   "name": "python",
   "nbconvert_exporter": "python",
   "pygments_lexer": "ipython3",
   "version": "3.7.10"
  },
  "orig_nbformat": 2,
  "kernelspec": {
   "name": "python3710jvsc74a57bd0fe6fe56491d14359533496d48f76d8d5eca29ada47f7474479a0f1ba33b27843",
   "display_name": "Python 3.7.10 64-bit ('myenv': conda)"
  }
 },
 "nbformat": 4,
 "nbformat_minor": 2,
 "cells": [
  {
   "cell_type": "code",
   "execution_count": 70,
   "metadata": {},
   "outputs": [],
   "source": [
    "import atomium\n",
    "import pandas as pd\n",
    "import numpy as np"
   ]
  },
  {
   "cell_type": "code",
   "execution_count": 76,
   "metadata": {},
   "outputs": [],
   "source": [
    "def find_angles():\n",
    "    pdb1 = atomium.open('1g60.pdb')\n",
    "    seq = pdb1.model.chain('A').sequence\n",
    "    data = pd.read_csv('1g60_angles.csv')\n",
    "    data = data.fillna(0)\n",
    "    data = np.array(data)\n",
    "    angles = data[:, :3]    \n",
    "    angles = np.nan_to_num(angles)\n",
    "    return seq, angles"
   ]
  },
  {
   "cell_type": "code",
   "execution_count": 77,
   "metadata": {},
   "outputs": [],
   "source": [
    "def myround(x, base):\n",
    "    if x == 'nan':\n",
    "        return 0\n",
    "    else:\n",
    "       return base * round(x/base)"
   ]
  },
  {
   "cell_type": "code",
   "execution_count": 93,
   "metadata": {},
   "outputs": [],
   "source": [
    "def find_B_turns(seq, angles):\n",
    "    B_seq = [60, -120, -80, 0]\n",
    "    positions = []\n",
    "    i = 0\n",
    "    for res in angles:\n",
    "        if myround(angles[i][1], 30) == 60:\n",
    "            if myround(angles[i][2], 30) == -120:\n",
    "                if myround(angles[i+1][1], 20) == -80:\n",
    "                    if myround(angles[i+1][2], 30) == 0:\n",
    "                        positions.append(angles[i][1])\n",
    "                        positions.append(angles[i][2])\n",
    "                        positions.append(angles[i+1][1])\n",
    "                        positions.append(angles[i+1][2])\n",
    "        i += 1\n",
    "    return positions"
   ]
  },
  {
   "cell_type": "code",
   "execution_count": 95,
   "metadata": {},
   "outputs": [],
   "source": [
    "seq, angles = find_angles()"
   ]
  },
  {
   "cell_type": "code",
   "execution_count": 97,
   "metadata": {},
   "outputs": [],
   "source": [
    "positions = find_B_turns(seq, angles)"
   ]
  },
  {
   "cell_type": "code",
   "execution_count": 98,
   "metadata": {},
   "outputs": [
    {
     "output_type": "stream",
     "name": "stdout",
     "text": [
      "[64.5170680979205, -122.168705290393, -76.6901001115858, -5.67340894007133, 58.4747301443752, -122.060515351484, -73.24301740373, -10.7040500848573]\n"
     ]
    }
   ],
   "source": [
    "print(positions)"
   ]
  }
 ]
}