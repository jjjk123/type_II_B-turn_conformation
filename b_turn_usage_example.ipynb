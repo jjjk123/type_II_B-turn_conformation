{
 "metadata": {
  "language_info": {
   "codemirror_mode": {
    "name": "ipython",
    "version": 3
   },
   "file_extension": ".py",
   "mimetype": "text/x-python",
   "name": "python",
   "nbconvert_exporter": "python",
   "pygments_lexer": "ipython3",
   "version": "3.7.10"
  },
  "orig_nbformat": 2,
  "kernelspec": {
   "name": "python3710jvsc74a57bd0fe6fe56491d14359533496d48f76d8d5eca29ada47f7474479a0f1ba33b27843",
   "display_name": "Python 3.7.10 64-bit ('myenv': conda)"
  }
 },
 "nbformat": 4,
 "nbformat_minor": 2,
 "cells": [
  {
   "cell_type": "code",
   "execution_count": 4,
   "metadata": {},
   "outputs": [],
   "source": [
    "from b_turn import find_b_turn"
   ]
  },
  {
   "cell_type": "code",
   "execution_count": 5,
   "metadata": {},
   "outputs": [],
   "source": [
    "structure_name = '1g60'\n",
    "file_name = '1g60.pdb'\n",
    "chain = 'A'\n",
    "error = 30"
   ]
  },
  {
   "cell_type": "code",
   "execution_count": 7,
   "metadata": {},
   "outputs": [
    {
     "output_type": "stream",
     "name": "stderr",
     "text": [
      "/Users/jedrzejkubica/desktop/python/anaconda/envs/myenv/lib/python3.7/site-packages/Bio/PDB/StructureBuilder.py:92: PDBConstructionWarning: WARNING: Chain A is discontinuous at line 4365.\n  PDBConstructionWarning,\n/Users/jedrzejkubica/desktop/python/anaconda/envs/myenv/lib/python3.7/site-packages/Bio/PDB/StructureBuilder.py:92: PDBConstructionWarning: WARNING: Chain B is discontinuous at line 4393.\n  PDBConstructionWarning,\n/Users/jedrzejkubica/desktop/python/anaconda/envs/myenv/lib/python3.7/site-packages/Bio/PDB/StructureBuilder.py:92: PDBConstructionWarning: WARNING: Chain A is discontinuous at line 4421.\n  PDBConstructionWarning,\n/Users/jedrzejkubica/desktop/python/anaconda/envs/myenv/lib/python3.7/site-packages/Bio/PDB/StructureBuilder.py:92: PDBConstructionWarning: WARNING: Chain B is discontinuous at line 4616.\n  PDBConstructionWarning,\n"
     ]
    }
   ],
   "source": [
    "b_turns = find_b_turn(structure_name, file_name, chain, error)"
   ]
  },
  {
   "cell_type": "code",
   "execution_count": null,
   "metadata": {},
   "outputs": [],
   "source": []
  }
 ]
}