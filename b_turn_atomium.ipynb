{
 "metadata": {
  "language_info": {
   "codemirror_mode": {
    "name": "ipython",
    "version": 3
   },
   "file_extension": ".py",
   "mimetype": "text/x-python",
   "name": "python",
   "nbconvert_exporter": "python",
   "pygments_lexer": "ipython3",
   "version": "3.7.10"
  },
  "orig_nbformat": 2,
  "kernelspec": {
   "name": "python3710jvsc74a57bd0fe6fe56491d14359533496d48f76d8d5eca29ada47f7474479a0f1ba33b27843",
   "display_name": "Python 3.7.10 64-bit ('myenv': conda)"
  }
 },
 "nbformat": 4,
 "nbformat_minor": 2,
 "cells": [
  {
   "cell_type": "code",
   "execution_count": 20,
   "metadata": {},
   "outputs": [],
   "source": [
    "import atomium\n",
    "import pandas as pd\n",
    "import numpy as np\n",
    "import dssp\n",
    "# import beta_turn"
   ]
  },
  {
   "cell_type": "code",
   "execution_count": 35,
   "metadata": {},
   "outputs": [],
   "source": [
    "dssp_data = dssp.run_dssp('1a7a_A.pdb')"
   ]
  },
  {
   "cell_type": "code",
   "execution_count": 37,
   "metadata": {},
   "outputs": [
    {
     "output_type": "error",
     "ename": "TypeError",
     "evalue": "expected str, bytes or os.PathLike object, not DataFrame",
     "traceback": [
      "\u001b[0;31m---------------------------------------------------------------------------\u001b[0m",
      "\u001b[0;31mTypeError\u001b[0m                                 Traceback (most recent call last)",
      "\u001b[0;32m<ipython-input-37-3cd71fa8c8b8>\u001b[0m in \u001b[0;36m<module>\u001b[0;34m\u001b[0m\n\u001b[0;32m----> 1\u001b[0;31m \u001b[0mdssp_seq\u001b[0m \u001b[0;34m=\u001b[0m \u001b[0mdssp\u001b[0m\u001b[0;34m.\u001b[0m\u001b[0mget_dssp_seq\u001b[0m\u001b[0;34m(\u001b[0m\u001b[0mdssp_data\u001b[0m\u001b[0;34m)\u001b[0m\u001b[0;34m\u001b[0m\u001b[0;34m\u001b[0m\u001b[0m\n\u001b[0m",
      "\u001b[0;32m~/Desktop/project1/dssp.py\u001b[0m in \u001b[0;36mget_dssp_seq\u001b[0;34m(fn)\u001b[0m\n\u001b[1;32m     19\u001b[0m     \u001b[0;31m# TODO: Connectivity info??\u001b[0m\u001b[0;34m\u001b[0m\u001b[0;34m\u001b[0m\u001b[0;34m\u001b[0m\u001b[0m\n\u001b[1;32m     20\u001b[0m     \"\"\"\n\u001b[0;32m---> 21\u001b[0;31m     \u001b[0mf\u001b[0m \u001b[0;34m=\u001b[0m \u001b[0mopen\u001b[0m\u001b[0;34m(\u001b[0m\u001b[0mfn\u001b[0m\u001b[0;34m,\u001b[0m \u001b[0;34m'r'\u001b[0m\u001b[0;34m)\u001b[0m\u001b[0;34m\u001b[0m\u001b[0;34m\u001b[0m\u001b[0m\n\u001b[0m\u001b[1;32m     22\u001b[0m     \u001b[0mout_dict\u001b[0m\u001b[0;34m,\u001b[0m \u001b[0mkeys\u001b[0m \u001b[0;34m=\u001b[0m \u001b[0m_make_dssp_dict\u001b[0m\u001b[0;34m(\u001b[0m\u001b[0mf\u001b[0m\u001b[0;34m)\u001b[0m\u001b[0;34m\u001b[0m\u001b[0;34m\u001b[0m\u001b[0m\n\u001b[1;32m     23\u001b[0m     \u001b[0mseq\u001b[0m \u001b[0;34m=\u001b[0m \u001b[0;34m[\u001b[0m\u001b[0;34m(\u001b[0m\u001b[0mout_dict\u001b[0m\u001b[0;34m[\u001b[0m\u001b[0mkey\u001b[0m\u001b[0;34m]\u001b[0m\u001b[0;34m[\u001b[0m\u001b[0;36m0\u001b[0m\u001b[0;34m]\u001b[0m\u001b[0;34m)\u001b[0m \u001b[0;32mfor\u001b[0m \u001b[0mkey\u001b[0m \u001b[0;32min\u001b[0m \u001b[0mkeys\u001b[0m\u001b[0;34m]\u001b[0m\u001b[0;34m\u001b[0m\u001b[0;34m\u001b[0m\u001b[0m\n",
      "\u001b[0;31mTypeError\u001b[0m: expected str, bytes or os.PathLike object, not DataFrame"
     ]
    }
   ],
   "source": [
    "dssp_seq = dssp.get_dssp_seq(dssp_data)"
   ]
  },
  {
   "cell_type": "code",
   "execution_count": 23,
   "metadata": {},
   "outputs": [],
   "source": [
    "def myround(x, err):\n",
    "    return err * round(x/err)"
   ]
  },
  {
   "cell_type": "code",
   "execution_count": 24,
   "metadata": {},
   "outputs": [],
   "source": [
    "def get_angles(file_name, chain, err):\n",
    "    pdb1 = atomium.open(file_name)\n",
    "    atoms = []\n",
    "    angles = []\n",
    "    for i in range(1, pdb1.model.chain(chain).length):\n",
    "        atoms.append(pdb1.model.atom(i))\n",
    "    for atom in atoms:\n",
    "        if atom == None:\n",
    "            atoms.remove(atom)\n",
    "    for i in range(len(atoms) - 2):\n",
    "        angles.append(atoms[i + 1].angle(atoms[i], atoms[i + 2]))\n",
    "    for i in range(len(angles)):\n",
    "        #rad to deg\n",
    "        angles[i] = angles[i] * 57.295\n",
    "        angles[i] = myround(angles[i], err)\n",
    "    return angles"
   ]
  },
  {
   "cell_type": "code",
   "execution_count": 25,
   "metadata": {},
   "outputs": [],
   "source": [
    "pdb2 = atomium.open('1g60.pdb')"
   ]
  },
  {
   "cell_type": "code",
   "execution_count": 26,
   "metadata": {},
   "outputs": [],
   "source": [
    "atoms = []\n",
    "for i in range(1, pdb2.model.chain('A').length):\n",
    "    atoms.append(pdb2.model.atom(i))\n",
    "for atom in atoms:\n",
    "    if atom == None:\n",
    "        atoms.remove(atom)"
   ]
  },
  {
   "cell_type": "code",
   "execution_count": 27,
   "metadata": {},
   "outputs": [],
   "source": [
    "# atoms - atom seq\n",
    "# B_turn - atom seq in B-turn\n",
    "def h_bond(atoms, *B_turn):\n",
    "    for atom in atoms:\n",
    "        print(atom.nearby_atoms(10))"
   ]
  },
  {
   "cell_type": "code",
   "execution_count": 28,
   "metadata": {
    "tags": []
   },
   "outputs": [],
   "source": [
    "# h_bond(atoms)"
   ]
  },
  {
   "cell_type": "code",
   "execution_count": 29,
   "metadata": {},
   "outputs": [],
   "source": [
    "angles = get_angles('1g60.pdb', 'A', 30)"
   ]
  },
  {
   "cell_type": "code",
   "execution_count": 31,
   "metadata": {},
   "outputs": [],
   "source": [
    "B_angles = [60, -120, -80, 0]"
   ]
  },
  {
   "cell_type": "code",
   "execution_count": 32,
   "metadata": {},
   "outputs": [],
   "source": [
    "for i in range(len(angles)):\n",
    "    if angles[i] == 60:\n",
    "        if angles[i + 1] == -120:\n",
    "            if angles[i + 2] == -80:\n",
    "                if angles[i + 3] == 0:\n",
    "                    print('B')"
   ]
  }
 ]
}